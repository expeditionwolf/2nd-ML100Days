{
 "cells": [
  {
   "cell_type": "code",
   "execution_count": 3,
   "metadata": {},
   "outputs": [],
   "source": [
    "# Import 需要的套件\n",
    "import os\n",
    "import numpy as np\n",
    "import pandas as pd\n",
    "\n",
    "# 設定 data_path\n",
    "dir_data = './data/'"
   ]
  },
  {
   "cell_type": "code",
   "execution_count": 4,
   "metadata": {},
   "outputs": [],
   "source": [
    "f_app_train = os.path.join(dir_data, 'application_train.csv')\n",
    "app_train = pd.read_csv(f_app_train)"
   ]
  },
  {
   "cell_type": "code",
   "execution_count": 5,
   "metadata": {},
   "outputs": [],
   "source": [
    "import matplotlib.pyplot as plt\n",
    "%matplotlib inline"
   ]
  },
  {
   "cell_type": "markdown",
   "metadata": {},
   "source": [
    "## 練習時間"
   ]
  },
  {
   "cell_type": "markdown",
   "metadata": {},
   "source": [
    "觀察有興趣的欄位的資料分佈，並嘗試找出有趣的訊息\n",
    "#### Eg\n",
    "- 計算任意欄位的平均數及標準差\n",
    "- 畫出任意欄位的[直方圖](https://zh.wikipedia.org/zh-tw/%E7%9B%B4%E6%96%B9%E5%9B%BE)\n",
    "\n",
    "### Hints:\n",
    "- [Descriptive Statistics For pandas Dataframe](https://chrisalbon.com/python/data_wrangling/pandas_dataframe_descriptive_stats/)\n",
    "- [pandas 中的繪圖函數](https://amaozhao.gitbooks.io/pandas-notebook/content/pandas%E4%B8%AD%E7%9A%84%E7%BB%98%E5%9B%BE%E5%87%BD%E6%95%B0.html)\n"
   ]
  },
  {
   "cell_type": "code",
   "execution_count": 10,
   "metadata": {},
   "outputs": [
    {
     "name": "stdout",
     "output_type": "stream",
     "text": [
      "AMT_CREDIT平均 : 599025.9997057016\n",
      "AMT_CREDIT標準差 : 402490.77699585486\n"
     ]
    }
   ],
   "source": [
    "#算AMT_CREDIT的平均數及標準差\n",
    "mean=app_train['AMT_CREDIT'].mean()\n",
    "SD=app_train['AMT_CREDIT'].std()\n",
    "print(\"AMT_CREDIT平均 :\",mean)\n",
    "print(\"AMT_CREDIT標準差 :\",SD)"
   ]
  },
  {
   "cell_type": "code",
   "execution_count": 12,
   "metadata": {},
   "outputs": [
    {
     "name": "stdout",
     "output_type": "stream",
     "text": [
      "a1: 164 a2: 74863 a3: 10277 a4: 3816 a5: 218391\n"
     ]
    }
   ],
   "source": [
    "#教育程度分佈\n",
    "\n",
    "a1=(app_train['NAME_EDUCATION_TYPE']=='Academic degree').sum()\n",
    "a2=(app_train['NAME_EDUCATION_TYPE']=='Higher education').sum()\n",
    "a3=(app_train['NAME_EDUCATION_TYPE']=='Incomplete higher').sum()\n",
    "a4=(app_train['NAME_EDUCATION_TYPE']=='Lower secondary').sum()\n",
    "a5=(app_train['NAME_EDUCATION_TYPE']=='Secondary / secondary special').sum()\n",
    "print(\"a1:\",a1,\"a2:\",a2,\"a3:\",a3,\"a4:\",a4,\"a5:\",a5)"
   ]
  },
  {
   "cell_type": "code",
   "execution_count": 35,
   "metadata": {},
   "outputs": [
    {
     "data": {
      "text/plain": [
       "<matplotlib.axes._subplots.AxesSubplot at 0x93af3b0>"
      ]
     },
     "execution_count": 35,
     "metadata": {},
     "output_type": "execute_result"
    },
    {
     "data": {
      "image/png": "[encoded data removed]",
      "text/plain": [
       "<Figure size 432x288 with 1 Axes>"
      ]
     },
     "metadata": {
      "needs_background": "light"
     },
     "output_type": "display_data"
    }
   ],
   "source": [
    "df = pd.DataFrame([a1,a2,a3,a4,a5],\n",
    "                   index = ['Academic degree','Higher education','Incomplete higher','Lower secondary','Secondary / secondary special'])\n",
    "df.plot(kind='bar')\n"
   ]
  }
 ],
 "metadata": {
  "kernelspec": {
   "display_name": "Python 3",
   "language": "python",
   "name": "python3"
  }
 },
 "nbformat": 4,
 "nbformat_minor": 2
}
